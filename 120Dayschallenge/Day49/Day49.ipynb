{
 "cells": [
  {
   "cell_type": "markdown",
   "metadata": {},
   "source": [
    "# Day 49\n",
    "\n",
    "# Topics\n",
    "\n",
    " 1. Decision Tree Classifier Intuition\n",
    " 2. Decision Tree For Numerical Split\n",
    " 3. Post Pruning And Prepruning Decision Trees\n",
    "\n",
    " \n",
    " \n",
    "\n",
    "\n",
    "\n",
    "\n"
   ]
  }
 ],
 "metadata": {
  "language_info": {
   "name": "python"
  }
 },
 "nbformat": 4,
 "nbformat_minor": 2
}

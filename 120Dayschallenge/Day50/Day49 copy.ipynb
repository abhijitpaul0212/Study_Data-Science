{
 "cells": [
  {
   "cell_type": "markdown",
   "metadata": {},
   "source": [
    "# Day 50\n",
    "\n",
    "# Topics\n",
    "\n",
    " 1. Decision Tree Classifier Implementation\n",
    " 2. Decision Tree Post Pruning\n",
    " 3. Decision Tree Regressor In depth Intuition\n",
    " 4. Decision Tree Regressor Implementation\n",
    "\n",
    " \n",
    " \n",
    "\n",
    "\n",
    "\n",
    "\n"
   ]
  },
  {
   "cell_type": "markdown",
   "metadata": {},
   "source": []
  }
 ],
 "metadata": {
  "language_info": {
   "name": "python"
  }
 },
 "nbformat": 4,
 "nbformat_minor": 2
}

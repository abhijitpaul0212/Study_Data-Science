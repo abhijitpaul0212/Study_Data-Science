{
 "cells": [
  {
   "cell_type": "markdown",
   "metadata": {},
   "source": [
    "# Day 51\n",
    "\n",
    "# Topics\n",
    "\n",
    " 1. Support Vector Classifier Indepth Intuition\n",
    " 2. Support Vector Machines Classifier\n",
    " 3. Support Vector Regressor Indepth Intuition\n",
    " 4. Support Vector Regressor Implementation\n",
    " 5. SVM Kernels Intuition\n",
    " 6. SVM Kernels Implementation\n",
    " \n",
    " \n",
    " \n",
    "\n",
    "\n",
    "\n",
    "\n"
   ]
  }
 ],
 "metadata": {
  "language_info": {
   "name": "python"
  }
 },
 "nbformat": 4,
 "nbformat_minor": 2
}

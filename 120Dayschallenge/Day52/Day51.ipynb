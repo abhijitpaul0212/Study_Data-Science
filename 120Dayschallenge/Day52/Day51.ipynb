{
 "cells": [
  {
   "cell_type": "markdown",
   "metadata": {},
   "source": [
    "# Day 52\n",
    "\n",
    "# Topics\n",
    "\n",
    " 1. Naive Bayes Indepth Intuition\n",
    " 2. Variants Of Naive Bayes Algorithms\n",
    " 3. Naive Bayes Practical Implementation\n",
    "\n",
    " \n",
    " \n",
    " \n",
    "\n",
    "\n",
    "\n",
    "\n"
   ]
  },
  {
   "cell_type": "markdown",
   "metadata": {},
   "source": []
  }
 ],
 "metadata": {
  "language_info": {
   "name": "python"
  }
 },
 "nbformat": 4,
 "nbformat_minor": 2
}

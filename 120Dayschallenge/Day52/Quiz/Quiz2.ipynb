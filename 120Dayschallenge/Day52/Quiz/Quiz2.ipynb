{
 "cells": [
  {
   "cell_type": "markdown",
   "metadata": {},
   "source": [
    "# Quiz 2"
   ]
  },
  {
   "cell_type": "markdown",
   "metadata": {},
   "source": [
    "**1. What is a confusion matrix used for?**\n",
    "\n",
    "- Evaluating regression models\n",
    "- Evaluating classification models\n",
    "- Evaluating clustering models\n",
    "- None of the above\n",
    "\n",
    "**Answer:** Evaluating classification models\n",
    "\n",
    "**Explanation:** A confusion matrix is used to evaluate the performance of a classification model by measuring how well it can predict the correct class label for each instance in a dataset.\n",
    "\n",
    "---\n",
    "\n",
    "**2. Which of the following metrics measures the proportion of true positives among all positive predictions?**\n",
    "\n",
    "- Precision\n",
    "- Recall\n",
    "- F1 score\n",
    "- all the above\n",
    "\n",
    "**Answer:** Precision\n",
    "\n",
    "**Explanation:** Precision measures the proportion of true positives among all positive predictions made by the model. It is calculated as TP / (TP + FP).\n",
    "\n",
    "---\n",
    "\n",
    "**3. Which of the following metrics measures the proportion of true positives among all actual positives?**\n",
    "\n",
    "- Precision\n",
    "- Recall\n",
    "- F1 score\n",
    "- all of the above\n",
    "\n",
    "**Answer:** Recall\n",
    "\n",
    "**Explanation:** Recall measures the proportion of true positives among all actual positive instances in the dataset. It is calculated as TP / (TP + FN).\n",
    "\n",
    "---\n",
    "\n",
    "**4. What is a ROC curve used for?**\n",
    "\n",
    "- Evaluating regression models\n",
    "- Evaluating classification models\n",
    "- Evaluating clustering models\n",
    "- all the above\n",
    "\n",
    "**Answer:** Evaluating classification models\n",
    "\n",
    "**Explanation:** An ROC (Receiver Operating Characteristic) curve is used to evaluate the performance of a binary classification model. It plots the true positive rate (TPR) against the false positive rate (FPR) for different classification thresholds.\n",
    "\n",
    "---\n",
    "\n",
    "**5. Which of the following is a measure of how well a binary classifier can distinguish between positive and negative examples?**\n",
    "\n",
    "- Precision\n",
    "- Recall\n",
    "- AUC\n",
    "- (a) and (b)\n",
    "\n",
    "**Answer:** AUC\n",
    "\n",
    "**Explanation:** AUC (Area Under the Curve) is a measure of how well a binary classifier can distinguish between positive and negative examples. It measures the area under the ROC curve and provides a single score to evaluate the overall performance of a classification model.\n",
    "\n",
    "---\n",
    "\n",
    "**6. Which of the following is true for a perfect classifier?**\n",
    "\n",
    "- Precision = Recall = F1 score = 1.0\n",
    "- Precision = Recall = F1 score = 0.0\n",
    "- Precision = Recall = F1 score = 0.5\n",
    "- none of the above\n",
    "\n",
    "**Answer:** Precision = Recall = F1 score = 1.0\n",
    "\n",
    "**Explanation:** A perfect classifier correctly predicts all positive and negative instances in the dataset, resulting in precision, recall, and F1 score of 1.0.\n"
   ]
  },
  {
   "cell_type": "markdown",
   "metadata": {},
   "source": []
  }
 ],
 "metadata": {
  "kernelspec": {
   "display_name": "base",
   "language": "python",
   "name": "python3"
  },
  "language_info": {
   "codemirror_mode": {
    "name": "ipython",
    "version": 3
   },
   "file_extension": ".py",
   "mimetype": "text/x-python",
   "name": "python",
   "nbconvert_exporter": "python",
   "pygments_lexer": "ipython3",
   "version": "3.11.5"
  }
 },
 "nbformat": 4,
 "nbformat_minor": 2
}

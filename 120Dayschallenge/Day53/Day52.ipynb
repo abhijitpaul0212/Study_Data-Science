{
 "cells": [
  {
   "cell_type": "markdown",
   "metadata": {},
   "source": [
    "# Day 53\n",
    "\n",
    "# Topics\n",
    "\n",
    " 1. Ensemble Techniques And Bagging\n",
    " 2. Random Forest Classifier And Regressor\n",
    " 3. Out Of Bag Score Decision Trees\n",
    " 4. Random Forest Practical Implementation\n",
    " \n",
    " \n",
    " \n",
    " \n",
    "\n",
    "\n",
    "\n",
    "\n"
   ]
  },
  {
   "cell_type": "markdown",
   "metadata": {},
   "source": []
  }
 ],
 "metadata": {
  "language_info": {
   "name": "python"
  }
 },
 "nbformat": 4,
 "nbformat_minor": 2
}

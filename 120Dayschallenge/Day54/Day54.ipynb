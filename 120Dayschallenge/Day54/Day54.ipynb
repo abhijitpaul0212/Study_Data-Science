{
 "cells": [
  {
   "cell_type": "markdown",
   "metadata": {},
   "source": [
    "# Day 54\n",
    "\n",
    "# Topics\n",
    "\n",
    " 1. Boosting Technique part-01\n",
    " 2. Boosting Technique Part-02\n",
    " 3. Gradient Bosting Indepth Intuition\n",
    " 4. Xgboost Classification Algorithms\n",
    " 5. Xgboost Regresor Algorithm\n",
    " \n",
    " \n",
    " \n",
    " \n",
    " \n",
    "\n",
    "\n",
    "\n",
    "\n"
   ]
  },
  {
   "cell_type": "markdown",
   "metadata": {},
   "source": []
  }
 ],
 "metadata": {
  "language_info": {
   "name": "python"
  }
 },
 "nbformat": 4,
 "nbformat_minor": 2
}

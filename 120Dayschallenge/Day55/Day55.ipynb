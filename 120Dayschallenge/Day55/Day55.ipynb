{
 "cells": [
  {
   "cell_type": "markdown",
   "metadata": {},
   "source": [
    "# Day 55\n",
    "\n",
    "# Topics\n",
    "\n",
    " 1. KNN Classification And Regression\n",
    " 2. Variants Of KNN\n",
    " 3. KNN Classifier and Regr Implementation\n",
    "\n",
    " \n",
    " \n",
    " \n",
    " \n",
    "\n",
    "\n",
    "\n",
    "\n"
   ]
  },
  {
   "cell_type": "markdown",
   "metadata": {},
   "source": []
  }
 ],
 "metadata": {
  "language_info": {
   "name": "python"
  }
 },
 "nbformat": 4,
 "nbformat_minor": 2
}

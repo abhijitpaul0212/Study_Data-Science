{
 "cells": [
  {
   "cell_type": "markdown",
   "metadata": {},
   "source": [
    "# Quiz 1"
   ]
  },
  {
   "cell_type": "markdown",
   "metadata": {},
   "source": [
    "1. What does KNN stand for in the context of machine learning?\n",
    "\n",
    "   - Kernelized Nearest Neighbors\n",
    "   - K-means Nearest Neighbors\n",
    "   - K-nearest Neighbors\n",
    "   - K-weighted Nearest Neighbors\n",
    "\n",
    "**Answer:** K-nearest Neighbors\n",
    "\n",
    "**Explanation:** KNN stands for K-nearest Neighbors, which is a supervised learning algorithm used for classification and regression tasks.\n",
    "\n",
    "2. KNN can be used for:\n",
    "\n",
    "   - Classification\n",
    "   - Regression\n",
    "   - Both Classification and Regression\n",
    "   - Neither Classification nor Regression\n",
    "\n",
    "**Answer:** Both Classification and Regression\n",
    "\n",
    "**Explanation:** KNN can be used for both classification and regression tasks, depending on the nature of the problem.\n",
    "\n",
    "3. The value of k in KNN:\n",
    "\n",
    "   - Must always be odd\n",
    "   - Must always be even\n",
    "   - Can be any positive integer\n",
    "   - Must be less than the size of the training set\n",
    "\n",
    "**Answer:** Can be any positive integer\n",
    "\n",
    "**Explanation:** The value of k in KNN is a hyperparameter that can be chosen based on cross-validation or other optimization techniques.\n",
    "\n",
    "4. Which of the following is not a distance metric commonly used in KNN?\n",
    "\n",
    "   - Euclidean distance\n",
    "   - Manhattan distance\n",
    "   - Cosine distance\n",
    "   - Pearson correlation\n",
    "\n",
    "**Answer:** Pearson correlation\n",
    "\n",
    "**Explanation:** While Pearson correlation is a similarity metric, it is not commonly used in KNN.\n",
    "\n",
    "5. In KNN, the decision boundary between classes is:\n",
    "\n",
    "   - Linear\n",
    "   - Non-linear\n",
    "   - Always a circle\n",
    "   - Always a straight line\n",
    "\n",
    "**Answer:** Non-linear\n",
    "\n",
    "**Explanation:** The decision boundary in KNN is non-linear and can take any shape depending on the distribution of data points.\n",
    "\n",
    "6. The main disadvantage of KNN compared to other machine learning algorithms is:\n",
    "\n",
    "   - It is computationally expensive at inference time\n",
    "   - It cannot handle missing values in the data\n",
    "   - It is prone to overfitting the training set\n",
    "   - It requires a large amount of training data\n",
    "\n",
    "**Answer:** It is computationally expensive at inference time\n",
    "\n",
    "**Explanation:** KNN requires computing distances to all training samples during prediction, which can be computationally expensive, especially for large datasets.\n",
    "\n",
    "7. Which of the following is a possible way to reduce the computational cost of KNN at inference time?\n",
    "\n",
    "   - Use a larger value of k\n",
    "   - Use a smaller value of k\n",
    "   - Use a faster distance metric\n",
    "   - None of the above\n",
    "\n",
    "**Answer:** Use a smaller value of k\n",
    "\n",
    "**Explanation:** Using a smaller value of k reduces the number of neighbors considered during prediction, thus reducing computational cost.\n"
   ]
  },
  {
   "cell_type": "markdown",
   "metadata": {},
   "source": []
  }
 ],
 "metadata": {
  "kernelspec": {
   "display_name": "base",
   "language": "python",
   "name": "python3"
  },
  "language_info": {
   "codemirror_mode": {
    "name": "ipython",
    "version": 3
   },
   "file_extension": ".py",
   "mimetype": "text/x-python",
   "name": "python",
   "nbconvert_exporter": "python",
   "pygments_lexer": "ipython3",
   "version": "3.11.5"
  }
 },
 "nbformat": 4,
 "nbformat_minor": 2
}

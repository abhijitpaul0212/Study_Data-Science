{
 "cells": [
  {
   "cell_type": "markdown",
   "metadata": {},
   "source": [
    "# Quiz 3"
   ]
  },
  {
   "cell_type": "markdown",
   "metadata": {},
   "source": [
    "1. **Which of the following is NOT a variant of KNN algorithm?**\n",
    "\n",
    "   - Naive Bayes\n",
    "   - Brute Force KNN\n",
    "   - K-Dimension Tree\n",
    "   - Ball Tree\n",
    "\n",
    "   **Answer:** Naive Bayes\n",
    "\n",
    "   **Explanation:** Naive Bayes is a classification algorithm based on Bayes' theorem and is not a variant of the KNN algorithm.\n",
    "\n",
    "2. **Which variant of KNN algorithm uses a brute force approach to compute the distances between the new data point and all the training data points?**\n",
    "\n",
    "   **Answer:** Brute Force KNN\n",
    "\n",
    "   **Explanation:** Brute Force KNN computes the distances between the new data point and all the training data points directly, without employing any optimization techniques.\n",
    "\n",
    "3. **Which variant of KNN algorithm partitions the data points into a binary tree based on their features?**\n",
    "\n",
    "   **Answer:** K-Dimension Tree\n",
    "\n",
    "   **Explanation:** K-Dimension Tree partitions the data points into a binary tree based on their features, allowing for faster computation of distances.\n",
    "\n",
    "4. **Which of the following is an advantage of using K-Dimension Tree over Brute Force KNN?**\n",
    "\n",
    "   **Answer:** K-Dimension Tree can handle high-dimensional data more efficiently.\n",
    "\n",
    "   **Explanation:** K-Dimension Tree's tree-based partitioning makes it more efficient for high-dimensional data compared to the brute force approach of KNN.\n",
    "\n",
    "5. **Which variant of KNN algorithm is more appropriate for data with unevenly distributed data points?**\n",
    "\n",
    "   **Answer:** Ball Tree\n",
    "\n",
    "   **Explanation:** Ball Tree is suitable for unevenly distributed data points as it partitions the data into hyperspheres, which can better capture the geometry of the data.\n",
    "\n",
    "6. **In Brute Force KNN, if the number of training data points is 1000 and the number of features is 10, how many distances will be computed to classify a single new data point?**\n",
    "\n",
    "   **Answer:** 10,000\n",
    "\n",
    "   **Explanation:** In Brute Force KNN, the distance between the new data point and all the training data points needs to be computed, resulting in 1000 * 10 = 10,000 distances.\n",
    "\n",
    "7. **In K-Dimension Tree, if the number of training data points is 1000 and the number of features is 10, how many splits will be performed to construct the binary tree?**\n",
    "\n",
    "   **Answer:** 20\n",
    "\n",
    "   **Explanation:** In K-Dimension Tree, the binary tree is constructed by recursively splitting the data points, resulting in log2(1000) * 10 = 20 splits.\n"
   ]
  }
 ],
 "metadata": {
  "kernelspec": {
   "display_name": "base",
   "language": "python",
   "name": "python3"
  },
  "language_info": {
   "codemirror_mode": {
    "name": "ipython",
    "version": 3
   },
   "file_extension": ".py",
   "mimetype": "text/x-python",
   "name": "python",
   "nbconvert_exporter": "python",
   "pygments_lexer": "ipython3",
   "version": "3.11.5"
  }
 },
 "nbformat": 4,
 "nbformat_minor": 2
}

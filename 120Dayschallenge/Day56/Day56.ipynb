{
 "cells": [
  {
   "cell_type": "markdown",
   "metadata": {},
   "source": [
    "# Day 56\n",
    "\n",
    "# Topics\n",
    "\n",
    " 1. Curse Of Dimensionality\n",
    " 2. Geometric Intuition Behind PCA\n",
    " 3. MAthemathical Intuition Of PCA\n",
    " 4.  PCA Practical Implementation\n",
    " \n",
    "\n",
    " \n",
    " \n",
    " \n",
    " \n",
    "\n",
    "\n",
    "\n",
    "\n"
   ]
  }
 ],
 "metadata": {
  "language_info": {
   "name": "python"
  }
 },
 "nbformat": 4,
 "nbformat_minor": 2
}

{
 "cells": [
  {
   "cell_type": "markdown",
   "metadata": {},
   "source": [
    "# Day 57\n",
    "\n",
    "# Topics\n",
    "\n",
    " 1. K Means Indepth Intuition\n",
    " 2. Hierarichal Clustering Intuition\n",
    " 3. K means vs Hierarichal Clustering\n",
    " \n",
    " \n",
    "\n",
    " \n",
    " \n",
    " \n",
    " \n",
    "\n",
    "\n",
    "\n",
    "\n"
   ]
  }
 ],
 "metadata": {
  "language_info": {
   "name": "python"
  }
 },
 "nbformat": 4,
 "nbformat_minor": 2
}

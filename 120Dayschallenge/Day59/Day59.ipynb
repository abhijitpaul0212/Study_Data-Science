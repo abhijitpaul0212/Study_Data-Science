{
 "cells": [
  {
   "cell_type": "markdown",
   "metadata": {},
   "source": [
    "# Day 59\n",
    "\n",
    "# Topics\n",
    "\n",
    " 1. Anomaly Detection Isolation Fores\n",
    " 2. DBSCAN Anomaly Detection\n",
    " 3. Local Outlier Factor Anamoly Detection\n",
    " \n",
    " \n",
    " \n",
    "\n",
    " \n",
    " \n",
    " \n",
    " \n",
    "\n",
    "\n",
    "\n",
    "\n"
   ]
  }
 ],
 "metadata": {
  "language_info": {
   "name": "python"
  }
 },
 "nbformat": 4,
 "nbformat_minor": 2
}

{
 "cells": [
  {
   "cell_type": "markdown",
   "metadata": {},
   "source": [
    "# Day 60\n",
    "\n",
    "# Topics\n",
    "\n",
    " 1. Introduction of time series\n",
    " 2. components of time series\n",
    " 3. moving average\n",
    " 4. stationary and non stationary\n",
    " 5. acf pacf\n",
    " 6. arima\n",
    " 7. time sereis model building\n",
    " 8. Time sereis EDA\n",
    " \n",
    " \n",
    " \n",
    " \n",
    "\n",
    " \n",
    " \n",
    " \n",
    " \n",
    "\n",
    "\n",
    "\n",
    "\n"
   ]
  }
 ],
 "metadata": {
  "language_info": {
   "name": "python"
  }
 },
 "nbformat": 4,
 "nbformat_minor": 2
}

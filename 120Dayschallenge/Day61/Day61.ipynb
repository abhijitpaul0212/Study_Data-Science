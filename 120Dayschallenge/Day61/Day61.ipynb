{
 "cells": [
  {
   "cell_type": "markdown",
   "metadata": {},
   "source": [
    "# Day 61\n",
    "\n",
    "# Topics \n",
    "\n",
    " 1. Project And Git Repository Set Up\n",
    " 2. Advanced Project Structure Set Up\n",
    " 3. Logging And Exception Handling\n",
    " 4. EDA,FE And Model Training\n",
    " 5. Data Ingestion ML Project\n",
    " 6. Data Transformation ML Project\n",
    " 7. Model Trainer ML Project\n",
    " 8. Prediction Pipeline\n",
    " \n",
    " \n",
    " \n",
    " \n",
    "\n",
    " \n",
    " \n",
    " \n",
    " \n",
    "\n",
    "\n",
    "\n",
    "\n"
   ]
  }
 ],
 "metadata": {
  "language_info": {
   "name": "python"
  }
 },
 "nbformat": 4,
 "nbformat_minor": 2
}
